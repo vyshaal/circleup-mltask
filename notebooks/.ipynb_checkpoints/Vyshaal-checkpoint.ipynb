{
 "cells": [
  {
   "cell_type": "code",
   "execution_count": 19,
   "metadata": {
    "collapsed": true
   },
   "outputs": [],
   "source": [
    "#importing all the packages needed\n",
    "import pandas as pd\n",
    "import numpy as np\n",
    "from sklearn.linear_model import LogisticRegression\n",
    "from sklearn.metrics import confusion_matrix, recall_score\n",
    "from sklearn.ensemble import RandomForestClassifier, GradientBoostingClassifier\n",
    "from sklearn import svm\n",
    "%matplotlib inline\n",
    "import matplotlib.pyplot as plt\n",
    "import seaborn as sns"
   ]
  },
  {
   "cell_type": "code",
   "execution_count": 38,
   "metadata": {
    "collapsed": true
   },
   "outputs": [],
   "source": [
    "#loading dataset\n",
    "\n",
    "response = pd.read_excel('Data science take home Datasets.xlsx', sheetname='user')\n",
    "features = pd.read_excel('Data science take home Datasets.xlsx', sheetname='user_features')\n",
    "ftd = pd.read_excel('Data science take home Datasets.xlsx', sheetname='model_test_file')\n",
    "\n",
    "df = pd.merge(response, features, on = 'user_id')"
   ]
  },
  {
   "cell_type": "code",
   "execution_count": 21,
   "metadata": {},
   "outputs": [
    {
     "data": {
      "text/plain": [
       "False"
      ]
     },
     "execution_count": 21,
     "metadata": {},
     "output_type": "execute_result"
    }
   ],
   "source": [
    "df.isnull().values.any()\n",
    "# no nan values"
   ]
  },
  {
   "cell_type": "code",
   "execution_count": 22,
   "metadata": {
    "collapsed": true
   },
   "outputs": [],
   "source": [
    "ftd = ftd.iloc[:,0:11]"
   ]
  },
  {
   "cell_type": "code",
   "execution_count": 23,
   "metadata": {},
   "outputs": [
    {
     "data": {
      "text/plain": [
       "['var_1',\n",
       " 'var_2',\n",
       " 'var_3',\n",
       " 'var_4',\n",
       " 'var_5',\n",
       " 'var_6',\n",
       " 'var_7',\n",
       " 'var_8',\n",
       " 'var_9',\n",
       " 'var_10',\n",
       " 'var_11']"
      ]
     },
     "execution_count": 23,
     "metadata": {},
     "output_type": "execute_result"
    }
   ],
   "source": [
    "list(ftd)"
   ]
  },
  {
   "cell_type": "code",
   "execution_count": 24,
   "metadata": {},
   "outputs": [
    {
     "data": {
      "text/plain": [
       "<matplotlib.axes._subplots.AxesSubplot at 0x28be5b38e10>"
      ]
     },
     "execution_count": 24,
     "metadata": {},
     "output_type": "execute_result"
    },
    {
     "data": {
      "image/png": "[encoded data removed]",
      "text/plain": [
       "<matplotlib.figure.Figure at 0x28be6737f98>"
      ]
     },
     "metadata": {},
     "output_type": "display_data"
    }
   ],
   "source": [
    "#exploratory data analysis\n",
    "#plt.xlim([0, 250])\n",
    "#var_11 needs log transformation\n",
    "#var_10 needs log transformation\n",
    "# 6-11 needs log transformation\n",
    "# look for better transformation to handle 3\n",
    "\n",
    "df.var_9.plot(kind = 'kde')"
   ]
  },
  {
   "cell_type": "code",
   "execution_count": 45,
   "metadata": {
    "collapsed": true
   },
   "outputs": [],
   "source": [
    "df['var_11'] = (df['var_11']+1).apply(np.log)\n",
    "df['var_10'] = (df['var_10']+1).apply(np.log)\n",
    "df['var_9'] = (df['var_9']+1).apply(np.log)\n",
    "df['var_8'] = (df['var_8']+1).apply(np.log)\n",
    "df['var_7'] = (df['var_7']+1).apply(np.log)\n",
    "df['var_6'] = (df['var_6']+1).apply(np.log)\n",
    "\n",
    "ftd['var_11'] = (ftd['var_11']+1).apply(np.log)\n",
    "ftd['var_10'] = (ftd['var_10']+1).apply(np.log)\n",
    "ftd['var_9'] = (ftd['var_9']+1).apply(np.log)\n",
    "ftd['var_8'] = (ftd['var_8']+1).apply(np.log)\n",
    "ftd['var_7'] = (ftd['var_7']+1).apply(np.log)\n",
    "ftd['var_6'] = (ftd['var_6']+1).apply(np.log)"
   ]
  },
  {
   "cell_type": "code",
   "execution_count": 39,
   "metadata": {},
   "outputs": [
    {
     "data": {
      "text/html": [
       "<div>\n",
       "<style>\n",
       "    .dataframe thead tr:only-child th {\n",
       "        text-align: right;\n",
       "    }\n",
       "\n",
       "    .dataframe thead th {\n",
       "        text-align: left;\n",
       "    }\n",
       "\n",
       "    .dataframe tbody tr th {\n",
       "        vertical-align: top;\n",
       "    }\n",
       "</style>\n",
       "<table border=\"1\" class=\"dataframe\">\n",
       "  <thead>\n",
       "    <tr style=\"text-align: right;\">\n",
       "      <th></th>\n",
       "      <th>response</th>\n",
       "      <th>user_id</th>\n",
       "      <th>var_1</th>\n",
       "      <th>var_2</th>\n",
       "      <th>var_3</th>\n",
       "      <th>var_4</th>\n",
       "      <th>var_5</th>\n",
       "      <th>var_6</th>\n",
       "      <th>var_7</th>\n",
       "      <th>var_8</th>\n",
       "      <th>var_9</th>\n",
       "      <th>var_10</th>\n",
       "      <th>var_11</th>\n",
       "      <th>var_12</th>\n",
       "    </tr>\n",
       "  </thead>\n",
       "  <tbody>\n",
       "    <tr>\n",
       "      <th>0</th>\n",
       "      <td>0</td>\n",
       "      <td>154531</td>\n",
       "      <td>1</td>\n",
       "      <td>1</td>\n",
       "      <td>0</td>\n",
       "      <td>1740115</td>\n",
       "      <td>38.637588</td>\n",
       "      <td>26</td>\n",
       "      <td>0</td>\n",
       "      <td>0.0000</td>\n",
       "      <td>0</td>\n",
       "      <td>2542</td>\n",
       "      <td>0</td>\n",
       "      <td>0.87499</td>\n",
       "    </tr>\n",
       "    <tr>\n",
       "      <th>1</th>\n",
       "      <td>0</td>\n",
       "      <td>156315</td>\n",
       "      <td>1</td>\n",
       "      <td>1</td>\n",
       "      <td>362</td>\n",
       "      <td>9803192</td>\n",
       "      <td>30.901522</td>\n",
       "      <td>11</td>\n",
       "      <td>237</td>\n",
       "      <td>1.7553</td>\n",
       "      <td>0</td>\n",
       "      <td>117</td>\n",
       "      <td>17</td>\n",
       "      <td>0.79306</td>\n",
       "    </tr>\n",
       "    <tr>\n",
       "      <th>2</th>\n",
       "      <td>0</td>\n",
       "      <td>149607</td>\n",
       "      <td>1</td>\n",
       "      <td>1</td>\n",
       "      <td>3279</td>\n",
       "      <td>3694516</td>\n",
       "      <td>45.933998</td>\n",
       "      <td>329</td>\n",
       "      <td>638</td>\n",
       "      <td>13.1270</td>\n",
       "      <td>0</td>\n",
       "      <td>1313</td>\n",
       "      <td>380</td>\n",
       "      <td>0.94425</td>\n",
       "    </tr>\n",
       "    <tr>\n",
       "      <th>3</th>\n",
       "      <td>0</td>\n",
       "      <td>26755</td>\n",
       "      <td>1</td>\n",
       "      <td>1</td>\n",
       "      <td>213</td>\n",
       "      <td>18185084</td>\n",
       "      <td>34.120554</td>\n",
       "      <td>162</td>\n",
       "      <td>65</td>\n",
       "      <td>2.4769</td>\n",
       "      <td>0</td>\n",
       "      <td>168</td>\n",
       "      <td>12</td>\n",
       "      <td>0.57251</td>\n",
       "    </tr>\n",
       "    <tr>\n",
       "      <th>4</th>\n",
       "      <td>0</td>\n",
       "      <td>149734</td>\n",
       "      <td>0</td>\n",
       "      <td>0</td>\n",
       "      <td>226</td>\n",
       "      <td>0</td>\n",
       "      <td>23.700552</td>\n",
       "      <td>3</td>\n",
       "      <td>99</td>\n",
       "      <td>5.0404</td>\n",
       "      <td>0</td>\n",
       "      <td>119</td>\n",
       "      <td>156</td>\n",
       "      <td>0.45718</td>\n",
       "    </tr>\n",
       "    <tr>\n",
       "      <th>5</th>\n",
       "      <td>1</td>\n",
       "      <td>154440</td>\n",
       "      <td>1</td>\n",
       "      <td>1</td>\n",
       "      <td>1457</td>\n",
       "      <td>2715970</td>\n",
       "      <td>32.092002</td>\n",
       "      <td>85</td>\n",
       "      <td>948</td>\n",
       "      <td>7.6667</td>\n",
       "      <td>0</td>\n",
       "      <td>1391</td>\n",
       "      <td>69</td>\n",
       "      <td>0.93374</td>\n",
       "    </tr>\n",
       "    <tr>\n",
       "      <th>6</th>\n",
       "      <td>1</td>\n",
       "      <td>151098</td>\n",
       "      <td>1</td>\n",
       "      <td>1</td>\n",
       "      <td>3394</td>\n",
       "      <td>1800677</td>\n",
       "      <td>35.434698</td>\n",
       "      <td>33</td>\n",
       "      <td>394</td>\n",
       "      <td>16.1117</td>\n",
       "      <td>0</td>\n",
       "      <td>145</td>\n",
       "      <td>202</td>\n",
       "      <td>0.93463</td>\n",
       "    </tr>\n",
       "    <tr>\n",
       "      <th>7</th>\n",
       "      <td>1</td>\n",
       "      <td>162052</td>\n",
       "      <td>1</td>\n",
       "      <td>1</td>\n",
       "      <td>6342</td>\n",
       "      <td>1465836</td>\n",
       "      <td>41.776283</td>\n",
       "      <td>13</td>\n",
       "      <td>343</td>\n",
       "      <td>13.6880</td>\n",
       "      <td>0</td>\n",
       "      <td>4094</td>\n",
       "      <td>89</td>\n",
       "      <td>0.93730</td>\n",
       "    </tr>\n",
       "    <tr>\n",
       "      <th>8</th>\n",
       "      <td>0</td>\n",
       "      <td>153152</td>\n",
       "      <td>1</td>\n",
       "      <td>1</td>\n",
       "      <td>5714</td>\n",
       "      <td>1775211</td>\n",
       "      <td>25.836320</td>\n",
       "      <td>3</td>\n",
       "      <td>62</td>\n",
       "      <td>22.5323</td>\n",
       "      <td>0</td>\n",
       "      <td>187</td>\n",
       "      <td>664</td>\n",
       "      <td>0.91187</td>\n",
       "    </tr>\n",
       "    <tr>\n",
       "      <th>9</th>\n",
       "      <td>0</td>\n",
       "      <td>151099</td>\n",
       "      <td>1</td>\n",
       "      <td>1</td>\n",
       "      <td>8871</td>\n",
       "      <td>9405262</td>\n",
       "      <td>27.340693</td>\n",
       "      <td>17</td>\n",
       "      <td>934</td>\n",
       "      <td>6.7730</td>\n",
       "      <td>0</td>\n",
       "      <td>2442</td>\n",
       "      <td>218</td>\n",
       "      <td>0.90822</td>\n",
       "    </tr>\n",
       "  </tbody>\n",
       "</table>\n",
       "</div>"
      ],
      "text/plain": [
       "   response  user_id  var_1  var_2  var_3     var_4      var_5  var_6  var_7  \\\n",
       "0         0   154531      1      1      0   1740115  38.637588     26      0   \n",
       "1         0   156315      1      1    362   9803192  30.901522     11    237   \n",
       "2         0   149607      1      1   3279   3694516  45.933998    329    638   \n",
       "3         0    26755      1      1    213  18185084  34.120554    162     65   \n",
       "4         0   149734      0      0    226         0  23.700552      3     99   \n",
       "5         1   154440      1      1   1457   2715970  32.092002     85    948   \n",
       "6         1   151098      1      1   3394   1800677  35.434698     33    394   \n",
       "7         1   162052      1      1   6342   1465836  41.776283     13    343   \n",
       "8         0   153152      1      1   5714   1775211  25.836320      3     62   \n",
       "9         0   151099      1      1   8871   9405262  27.340693     17    934   \n",
       "\n",
       "     var_8  var_9  var_10  var_11   var_12  \n",
       "0   0.0000      0    2542       0  0.87499  \n",
       "1   1.7553      0     117      17  0.79306  \n",
       "2  13.1270      0    1313     380  0.94425  \n",
       "3   2.4769      0     168      12  0.57251  \n",
       "4   5.0404      0     119     156  0.45718  \n",
       "5   7.6667      0    1391      69  0.93374  \n",
       "6  16.1117      0     145     202  0.93463  \n",
       "7  13.6880      0    4094      89  0.93730  \n",
       "8  22.5323      0     187     664  0.91187  \n",
       "9   6.7730      0    2442     218  0.90822  "
      ]
     },
     "execution_count": 39,
     "metadata": {},
     "output_type": "execute_result"
    }
   ],
   "source": [
    "df.head(10)"
   ]
  },
  {
   "cell_type": "code",
   "execution_count": 49,
   "metadata": {
    "collapsed": true
   },
   "outputs": [],
   "source": [
    "#splitting data into train and test \n",
    "msk = np.random.rand(len(df)) < 0.6\n",
    "train = df[msk]\n",
    "test = df[~msk]\n",
    "X = train.iloc[:,2:]\n",
    "Y = train.iloc[:,0]"
   ]
  },
  {
   "cell_type": "code",
   "execution_count": null,
   "metadata": {
    "collapsed": true
   },
   "outputs": [],
   "source": [
    "def ML_model_application(input_variables, outcome_variable, test_data):\n",
    "    #logistic regression\n",
    "    lr = LogisticRegression()\n",
    "    lr.fit(input_variables, outcome_variable)\n",
    "    lr_test_predicted = lr.predict(test_data.iloc[:,2:])\n",
    "    lr_cf_mx = confusion_matrix(test_data.iloc[:,0], lr_test_predicted)\n",
    "    lr_accuracy = (lr_cf_mx[1][1]+lr_cf_mx[0][0])*100/(lr_cf_mx[1][1]+lr_cf_mx[1][0]+lr_cf_mx[0][1]+lr_cf_mx[0][0])\n",
    "    lr_recall = recall_score(test_data.iloc[:,0], lr_test_predicted)\n",
    "    \n",
    "    #random forest classifier\n",
    "    rfc = RandomForestClassifier(max_depth=2, random_state=0)\n",
    "    rfc.fit(input_variables,outcome_variable)\n",
    "    rfc_test_predicted = rfc.predict(test_data.iloc[:,2:])\n",
    "    rfc_cf_mx = confusion_matrix(test_data.iloc[:,0], rfc_test_predicted)\n",
    "    rfc_accuracy = (rfc_cf_mx[1][1]+rfc_cf_mx[0][0])*100/(rfc_cf_mx[1][1]+rfc_cf_mx[1][0]+rfc_cf_mx[0][1]+rfc_cf_mx[0][0])\n",
    "    rfc_recall = recall_score()\n",
    "    \n",
    "    #support vector machine\n",
    "    svc = svm.SVC()\n",
    "    svc.fit(input_variables, outcome_variable)\n",
    "    svc_test_predicted = svc.predict(test_data.iloc[:,2:])\n",
    "    svc_cf_mx = confusion_matrix(test_data.iloc[:,0], svc_test_predicted)\n",
    "    svc_accuracy = (svc_cf_mx[1][1]+svc_cf_mx[0][0])*100/(svc_cf_mx[1][1]+svc_cf_mx[1][0]+svc_cf_mx[0][1]+svc_cf_mx[0][0])\n",
    "    \n",
    "    \n",
    "    #Gradient boost\n",
    "    xgb = GradientBoostingClassifier(learning_rate=0.1, n_estimators=100,max_depth=3, min_samples_split=2, \n",
    "                                          min_samples_leaf=1, subsample=1,max_features='sqrt', random_state=10)    \n",
    "    xgb.fit(input_variables, outcome_variable)\n",
    "    xgb_test_predicted = xgb.predict(test_data.iloc[:,2:])\n",
    "    xgb_cf_mx = confusion_matrix(test_data.iloc[:,0], xgb_test_predicted)\n",
    "    xgb_accuracy = (xgb_cf_mx[1][1]+xgb_cf_mx[0][0])*100/(xgb_cf_mx[1][1]+xgb_cf_mx[1][0]+xgb_cf_mx[0][1]+xgb_cf_mx[0][0])\n",
    "\n",
    "    \n",
    "    highest_accuracy = max([lr_accuracy, rfc_accuracy, svc_accuracy, xgb_accuracy])\n",
    "    if (highest_accuracy == lr_accuracy):\n",
    "        ML_model = 'logistic regression'\n",
    "    elif (highest_accuracy == rfc_accuracy):\n",
    "        ML_model = 'random forest classifier'\n",
    "    elif (highest_accuracy == xgb_accuracy):\n",
    "        ML_model = 'Gradient boost classifier'\n",
    "    else:\n",
    "        ML_model = 'support vector machine'\n",
    "    \n",
    "    return lr_accuracy, rfc_accuracy, svc_accuracy, xgb_accuracy,\n",
    "#ML_model + ' with accuracy ' + str(highest_accuracy)"
   ]
  },
  {
   "cell_type": "code",
   "execution_count": 51,
   "metadata": {
    "scrolled": true
   },
   "outputs": [
    {
     "data": {
      "text/plain": [
       "(85.529357374017565,\n",
       " 88.950531668978272,\n",
       " 85.529357374017565,\n",
       " 90.013869625520115)"
      ]
     },
     "execution_count": 51,
     "metadata": {},
     "output_type": "execute_result"
    }
   ],
   "source": [
    "ML_model_application(X,Y,test)"
   ]
  },
  {
   "cell_type": "code",
   "execution_count": null,
   "metadata": {
    "collapsed": true
   },
   "outputs": [],
   "source": []
  }
 ],
 "metadata": {
  "kernelspec": {
   "display_name": "Python 3",
   "language": "python",
   "name": "python3"
  },
  "language_info": {
   "codemirror_mode": {
    "name": "ipython",
    "version": 3
   },
   "file_extension": ".py",
   "mimetype": "text/x-python",
   "name": "python",
   "nbconvert_exporter": "python",
   "pygments_lexer": "ipython3",
   "version": "3.6.1"
  }
 },
 "nbformat": 4,
 "nbformat_minor": 2
}
