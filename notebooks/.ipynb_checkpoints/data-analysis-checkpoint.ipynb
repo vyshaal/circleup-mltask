{
 "cells": [
  {
   "cell_type": "markdown",
   "metadata": {},
   "source": [
    "# <font color='black'>Question 1 - Use the user_message dataset</font>"
   ]
  },
  {
   "cell_type": "markdown",
   "metadata": {},
   "source": [
    "### <font color='crimson'>1. Write a function that calculates the total number of content a user had created over the last year and report the users who have greater than 500 pieces of content created.</font>"
   ]
  },
  {
   "cell_type": "code",
   "execution_count": 1,
   "metadata": {},
   "outputs": [
    {
     "data": {
      "text/html": [
       "<script>requirejs.config({paths: { 'plotly': ['https://cdn.plot.ly/plotly-latest.min']},});if(!window.Plotly) {{require(['plotly'],function(plotly) {window.Plotly=plotly;});}}</script>"
      ],
      "text/vnd.plotly.v1+html": [
       "<script>requirejs.config({paths: { 'plotly': ['https://cdn.plot.ly/plotly-latest.min']},});if(!window.Plotly) {{require(['plotly'],function(plotly) {window.Plotly=plotly;});}}</script>"
      ]
     },
     "metadata": {},
     "output_type": "display_data"
    }
   ],
   "source": [
    "# import libraries\n",
    "import numpy as np\n",
    "import pandas as pd\n",
    "import itertools\n",
    "import math\n",
    "import plotly\n",
    "import plotly.graph_objs as go\n",
    "import plotly.offline as plt\n",
    "import plotly.figure_factory as ff\n",
    "plt.init_notebook_mode(connected=True)"
   ]
  },
  {
   "cell_type": "code",
   "execution_count": 2,
   "metadata": {
    "collapsed": true
   },
   "outputs": [],
   "source": [
    "# dataset path\n",
    "excel_file = \"../spreadsheets/Data science take home Datasets.xlsx\"\n",
    "\n",
    "# loading the sheet 'user_message' into dataframe\n",
    "user_message_df = pd.read_excel(excel_file, \"user_message\")"
   ]
  },
  {
   "cell_type": "markdown",
   "metadata": {},
   "source": [
    "<h3> <font color='crimson'>Content created by each user</font> </h3>"
   ]
  },
  {
   "cell_type": "code",
   "execution_count": 3,
   "metadata": {},
   "outputs": [
    {
     "name": "stdout",
     "output_type": "stream",
     "text": [
      "Total number of content created by each user over the last year(2015): \n"
     ]
    },
    {
     "data": {
      "text/plain": [
       "user_id\n",
       "20         87\n",
       "134        94\n",
       "635       252\n",
       "950       122\n",
       "1034       83\n",
       "2052      640\n",
       "2434      526\n",
       "2442      117\n",
       "2474      105\n",
       "2487      223\n",
       "2495      186\n",
       "2499       81\n",
       "3063       87\n",
       "3195      211\n",
       "3532      523\n",
       "3723       25\n",
       "3734      123\n",
       "3924      686\n",
       "4062        9\n",
       "4249      279\n",
       "4309      281\n",
       "4324       15\n",
       "4377      180\n",
       "4527      135\n",
       "4609      175\n",
       "4711      214\n",
       "4809      112\n",
       "5307       45\n",
       "5639      268\n",
       "5651       71\n",
       "         ... \n",
       "152515     47\n",
       "154372     39\n",
       "154379    189\n",
       "165262    383\n",
       "167651     47\n",
       "168874     48\n",
       "188773    140\n",
       "189813     42\n",
       "190103     96\n",
       "190423    119\n",
       "190993    161\n",
       "191609     87\n",
       "193221     90\n",
       "194611    408\n",
       "210992    294\n",
       "211062     92\n",
       "211124     49\n",
       "211224     31\n",
       "211312    119\n",
       "211350     96\n",
       "211387    244\n",
       "211558    213\n",
       "211605    290\n",
       "211659    102\n",
       "211735    128\n",
       "211744     94\n",
       "211797    250\n",
       "211809     73\n",
       "211828     80\n",
       "211942    195\n",
       "Name: content_count, Length: 257, dtype: int64"
      ]
     },
     "execution_count": 3,
     "metadata": {},
     "output_type": "execute_result"
    }
   ],
   "source": [
    "# group by user_id and sum the content count to obtain total content created by each user\n",
    "content_by_each_user = user_message_df.groupby(['user_id'])['content_count'].sum()\n",
    "print(\"Total number of content created by each user over the last year(2015): \")\n",
    "content_by_each_user"
   ]
  },
  {
   "cell_type": "code",
   "execution_count": 4,
   "metadata": {},
   "outputs": [
    {
     "data": {
      "application/vnd.plotly.v1+json": {
       "data": [
        {
         "mode": "markers",
         "type": "scatter",
         "uid": "87a8fdf8-b0c0-11e8-8f07-9801a7b5fa79",
         "x": [
          "|20|",
          "|134|",
          "|635|",
          "|950|",
          "|1034|",
          "|2052|",
          "|2434|",
          "|2442|",
          "|2474|",
          "|2487|",
          "|2495|",
          "|2499|",
          "|3063|",
          "|3195|",
          "|3532|",
          "|3723|",
          "|3734|",
          "|3924|",
          "|4062|",
          "|4249|",
          "|4309|",
          "|4324|",
          "|4377|",
          "|4527|",
          "|4609|",
          "|4711|",
          "|4809|",
          "|5307|",
          "|5639|",
          "|5651|",
          "|5792|",
          "|5833|",
          "|5956|",
          "|5986|",
          "|5999|",
          "|6051|",
          "|6064|",
          "|6072|",
          "|6235|",
          "|6380|",
          "|6524|",
          "|6542|",
          "|6583|",
          "|6639|",
          "|6797|",
          "|7202|",
          "|7212|",
          "|7215|",
          "|7381|",
          "|7392|",
          "|7473|",
          "|7752|",
          "|7838|",
          "|7887|",
          "|7993|",
          "|8055|",
          "|8153|",
          "|8293|",
          "|8537|",
          "|8539|",
          "|8551|",
          "|8587|",
          "|8588|",
          "|8962|",
          "|8969|",
          "|9174|",
          "|9464|",
          "|9484|",
          "|9499|",
          "|9553|",
          "|9562|",
          "|9676|",
          "|9707|",
          "|9770|",
          "|10163|",
          "|10319|",
          "|10400|",
          "|10484|",
          "|10527|",
          "|10530|",
          "|10590|",
          "|10605|",
          "|10687|",
          "|10701|",
          "|10710|",
          "|10729|",
          "|10793|",
          "|10878|",
          "|11020|",
          "|11033|",
          "|11048|",
          "|11060|",
          "|11125|",
          "|11210|",
          "|11267|",
          "|11271|",
          "|11272|",
          "|11314|",
          "|11320|",
          "|11377|",
          "|11380|",
          "|11510|",
          "|11578|",
          "|11599|",
          "|11741|",
          "|11767|",
          "|11831|",
          "|11875|",
          "|11954|",
          "|11986|",
          "|12116|",
          "|12128|",
          "|12189|",
          "|12213|",
          "|12232|",
          "|12439|",
          "|12595|",
          "|12603|",
          "|12665|",
          "|12817|",
          "|13274|",
          "|13516|",
          "|13519|",
          "|13759|",
          "|13817|",
          "|13864|",
          "|13989|",
          "|14040|",
          "|14199|",
          "|14246|",
          "|14285|",
          "|14371|",
          "|14536|",
          "|14664|",
          "|14715|",
          "|15177|",
          "|15249|",
          "|15368|",
          "|15394|",
          "|15430|",
          "|15446|",
          "|15816|",
          "|15838|",
          "|15955|",
          "|16083|",
          "|16217|",
          "|16243|",
          "|16286|",
          "|16532|",
          "|16673|",
          "|16793|",
          "|16812|",
          "|16976|",
          "|17402|",
          "|17433|",
          "|17594|",
          "|17616|",
          "|17694|",
          "|17701|",
          "|17756|",
          "|17800|",
          "|17861|",
          "|17877|",
          "|17978|",
          "|18635|",
          "|18983|",
          "|19020|",
          "|19098|",
          "|19243|",
          "|19261|",
          "|19392|",
          "|19473|",
          "|19924|",
          "|20522|",
          "|20667|",
          "|20693|",
          "|20926|",
          "|21120|",
          "|21184|",
          "|21315|",
          "|21398|",
          "|21545|",
          "|21583|",
          "|21637|",
          "|21770|",
          "|21976|",
          "|22125|",
          "|22212|",
          "|22374|",
          "|22414|",
          "|22488|",
          "|22744|",
          "|22912|",
          "|36430|",
          "|39764|",
          "|46919|",
          "|133792|",
          "|133825|",
          "|134526|",
          "|134610|",
          "|134674|",
          "|134718|",
          "|135593|",
          "|139679|",
          "|141555|",
          "|141557|",
          "|142112|",
          "|146460|",
          "|146533|",
          "|146717|",
          "|146768|",
          "|147078|",
          "|147253|",
          "|147277|",
          "|147326|",
          "|147434|",
          "|147597|",
          "|148099|",
          "|148355|",
          "|148421|",
          "|148456|",
          "|148550|",
          "|148564|",
          "|148830|",
          "|152457|",
          "|152475|",
          "|152505|",
          "|152515|",
          "|154372|",
          "|154379|",
          "|165262|",
          "|167651|",
          "|168874|",
          "|188773|",
          "|189813|",
          "|190103|",
          "|190423|",
          "|190993|",
          "|191609|",
          "|193221|",
          "|194611|",
          "|210992|",
          "|211062|",
          "|211124|",
          "|211224|",
          "|211312|",
          "|211350|",
          "|211387|",
          "|211558|",
          "|211605|",
          "|211659|",
          "|211735|",
          "|211744|",
          "|211797|",
          "|211809|",
          "|211828|",
          "|211942|"
         ],
         "y": [
          87,
          94,
          252,
          122,
          83,
          640,
          526,
          117,
          105,
          223,
          186,
          81,
          87,
          211,
          523,
          25,
          123,
          686,
          9,
          279,
          281,
          15,
          180,
          135,
          175,
          214,
          112,
          45,
          268,
          71,
          151,
          66,
          134,
          140,
          566,
          54,
          105,
          76,
          6,
          111,
          318,
          106,
          96,
          132,
          60,
          150,
          157,
          330,
          53,
          160,
          200,
          16,
          76,
          352,
          160,
          303,
          125,
          92,
          175,
          133,
          43,
          67,
          85,
          551,
          68,
          165,
          47,
          1163,
          396,
          179,
          168,
          722,
          24,
          263,
          29,
          202,
          32,
          136,
          334,
          521,
          145,
          93,
          166,
          42,
          43,
          43,
          250,
          601,
          144,
          138,
          227,
          30,
          143,
          44,
          268,
          503,
          282,
          34,
          134,
          113,
          202,
          82,
          544,
          43,
          7,
          10,
          195,
          118,
          405,
          226,
          688,
          93,
          49,
          323,
          110,
          22,
          120,
          79,
          314,
          159,
          56,
          116,
          252,
          148,
          8,
          23,
          21,
          169,
          37,
          54,
          82,
          49,
          78,
          157,
          35,
          149,
          42,
          6,
          253,
          178,
          61,
          304,
          26,
          27,
          30,
          333,
          19,
          1,
          32,
          126,
          28,
          50,
          87,
          299,
          46,
          5,
          526,
          41,
          161,
          219,
          173,
          251,
          97,
          92,
          14,
          51,
          45,
          43,
          32,
          390,
          177,
          5,
          140,
          3,
          291,
          192,
          121,
          330,
          188,
          17,
          77,
          97,
          233,
          103,
          40,
          390,
          55,
          60,
          23,
          44,
          33,
          115,
          6,
          250,
          193,
          81,
          48,
          12,
          8,
          491,
          90,
          341,
          245,
          35,
          259,
          6,
          3,
          87,
          65,
          119,
          230,
          69,
          174,
          181,
          29,
          28,
          1,
          414,
          50,
          158,
          320,
          193,
          396,
          136,
          44,
          11,
          63,
          47,
          39,
          189,
          383,
          47,
          48,
          140,
          42,
          96,
          119,
          161,
          87,
          90,
          408,
          294,
          92,
          49,
          31,
          119,
          96,
          244,
          213,
          290,
          102,
          128,
          94,
          250,
          73,
          80,
          195
         ]
        }
       ],
       "layout": {
        "title": "<b>Total content by each user</b>",
        "width": 1200,
        "xaxis": {
         "title": "UserId"
        },
        "yaxis": {
         "title": "Total number of content"
        }
       }
      },
      "text/html": [
       "<div id=\"a6a1090a-4533-4176-b2bb-222fda700116\" style=\"height: 525px; width: 1200px;\" class=\"plotly-graph-div\"></div><script type=\"text/javascript\">require([\"plotly\"], function(Plotly) { window.PLOTLYENV=window.PLOTLYENV || {};window.PLOTLYENV.BASE_URL=\"https://plot.ly\";\n",
       "        Plotly.plot(\n",
       "            'a6a1090a-4533-4176-b2bb-222fda700116',\n",
       "            [{\"mode\": \"markers\", \"x\": [\"|20|\", \"|134|\", \"|635|\", \"|950|\", \"|1034|\", \"|2052|\", \"|2434|\", \"|2442|\", \"|2474|\", \"|2487|\", \"|2495|\", \"|2499|\", \"|3063|\", \"|3195|\", \"|3532|\", \"|3723|\", \"|3734|\", \"|3924|\", \"|4062|\", \"|4249|\", \"|4309|\", \"|4324|\", \"|4377|\", \"|4527|\", \"|4609|\", \"|4711|\", \"|4809|\", \"|5307|\", \"|5639|\", \"|5651|\", \"|5792|\", \"|5833|\", \"|5956|\", \"|5986|\", \"|5999|\", \"|6051|\", \"|6064|\", \"|6072|\", \"|6235|\", \"|6380|\", \"|6524|\", \"|6542|\", \"|6583|\", \"|6639|\", \"|6797|\", \"|7202|\", \"|7212|\", \"|7215|\", \"|7381|\", \"|7392|\", \"|7473|\", \"|7752|\", \"|7838|\", \"|7887|\", \"|7993|\", \"|8055|\", \"|8153|\", \"|8293|\", \"|8537|\", \"|8539|\", \"|8551|\", \"|8587|\", \"|8588|\", \"|8962|\", \"|8969|\", \"|9174|\", \"|9464|\", \"|9484|\", \"|9499|\", \"|9553|\", \"|9562|\", \"|9676|\", \"|9707|\", \"|9770|\", \"|10163|\", \"|10319|\", \"|10400|\", \"|10484|\", \"|10527|\", \"|10530|\", \"|10590|\", \"|10605|\", \"|10687|\", \"|10701|\", \"|10710|\", \"|10729|\", \"|10793|\", \"|10878|\", \"|11020|\", \"|11033|\", \"|11048|\", \"|11060|\", \"|11125|\", \"|11210|\", \"|11267|\", \"|11271|\", \"|11272|\", \"|11314|\", \"|11320|\", \"|11377|\", \"|11380|\", \"|11510|\", \"|11578|\", \"|11599|\", \"|11741|\", \"|11767|\", \"|11831|\", \"|11875|\", \"|11954|\", \"|11986|\", \"|12116|\", \"|12128|\", \"|12189|\", \"|12213|\", \"|12232|\", \"|12439|\", \"|12595|\", \"|12603|\", \"|12665|\", \"|12817|\", \"|13274|\", \"|13516|\", \"|13519|\", \"|13759|\", \"|13817|\", \"|13864|\", \"|13989|\", \"|14040|\", \"|14199|\", \"|14246|\", \"|14285|\", \"|14371|\", \"|14536|\", \"|14664|\", \"|14715|\", \"|15177|\", \"|15249|\", \"|15368|\", \"|15394|\", \"|15430|\", \"|15446|\", \"|15816|\", \"|15838|\", \"|15955|\", \"|16083|\", \"|16217|\", \"|16243|\", \"|16286|\", \"|16532|\", \"|16673|\", \"|16793|\", \"|16812|\", \"|16976|\", \"|17402|\", \"|17433|\", \"|17594|\", \"|17616|\", \"|17694|\", \"|17701|\", \"|17756|\", \"|17800|\", \"|17861|\", \"|17877|\", \"|17978|\", \"|18635|\", \"|18983|\", \"|19020|\", \"|19098|\", \"|19243|\", \"|19261|\", \"|19392|\", \"|19473|\", \"|19924|\", \"|20522|\", \"|20667|\", \"|20693|\", \"|20926|\", \"|21120|\", \"|21184|\", \"|21315|\", \"|21398|\", \"|21545|\", \"|21583|\", \"|21637|\", \"|21770|\", \"|21976|\", \"|22125|\", \"|22212|\", \"|22374|\", \"|22414|\", \"|22488|\", \"|22744|\", \"|22912|\", \"|36430|\", \"|39764|\", \"|46919|\", \"|133792|\", \"|133825|\", \"|134526|\", \"|134610|\", \"|134674|\", \"|134718|\", \"|135593|\", \"|139679|\", \"|141555|\", \"|141557|\", \"|142112|\", \"|146460|\", \"|146533|\", \"|146717|\", \"|146768|\", \"|147078|\", \"|147253|\", \"|147277|\", \"|147326|\", \"|147434|\", \"|147597|\", \"|148099|\", \"|148355|\", \"|148421|\", \"|148456|\", \"|148550|\", \"|148564|\", \"|148830|\", \"|152457|\", \"|152475|\", \"|152505|\", \"|152515|\", \"|154372|\", \"|154379|\", \"|165262|\", \"|167651|\", \"|168874|\", \"|188773|\", \"|189813|\", \"|190103|\", \"|190423|\", \"|190993|\", \"|191609|\", \"|193221|\", \"|194611|\", \"|210992|\", \"|211062|\", \"|211124|\", \"|211224|\", \"|211312|\", \"|211350|\", \"|211387|\", \"|211558|\", \"|211605|\", \"|211659|\", \"|211735|\", \"|211744|\", \"|211797|\", \"|211809|\", \"|211828|\", \"|211942|\"], \"y\": [87.0, 94.0, 252.0, 122.0, 83.0, 640.0, 526.0, 117.0, 105.0, 223.0, 186.0, 81.0, 87.0, 211.0, 523.0, 25.0, 123.0, 686.0, 9.0, 279.0, 281.0, 15.0, 180.0, 135.0, 175.0, 214.0, 112.0, 45.0, 268.0, 71.0, 151.0, 66.0, 134.0, 140.0, 566.0, 54.0, 105.0, 76.0, 6.0, 111.0, 318.0, 106.0, 96.0, 132.0, 60.0, 150.0, 157.0, 330.0, 53.0, 160.0, 200.0, 16.0, 76.0, 352.0, 160.0, 303.0, 125.0, 92.0, 175.0, 133.0, 43.0, 67.0, 85.0, 551.0, 68.0, 165.0, 47.0, 1163.0, 396.0, 179.0, 168.0, 722.0, 24.0, 263.0, 29.0, 202.0, 32.0, 136.0, 334.0, 521.0, 145.0, 93.0, 166.0, 42.0, 43.0, 43.0, 250.0, 601.0, 144.0, 138.0, 227.0, 30.0, 143.0, 44.0, 268.0, 503.0, 282.0, 34.0, 134.0, 113.0, 202.0, 82.0, 544.0, 43.0, 7.0, 10.0, 195.0, 118.0, 405.0, 226.0, 688.0, 93.0, 49.0, 323.0, 110.0, 22.0, 120.0, 79.0, 314.0, 159.0, 56.0, 116.0, 252.0, 148.0, 8.0, 23.0, 21.0, 169.0, 37.0, 54.0, 82.0, 49.0, 78.0, 157.0, 35.0, 149.0, 42.0, 6.0, 253.0, 178.0, 61.0, 304.0, 26.0, 27.0, 30.0, 333.0, 19.0, 1.0, 32.0, 126.0, 28.0, 50.0, 87.0, 299.0, 46.0, 5.0, 526.0, 41.0, 161.0, 219.0, 173.0, 251.0, 97.0, 92.0, 14.0, 51.0, 45.0, 43.0, 32.0, 390.0, 177.0, 5.0, 140.0, 3.0, 291.0, 192.0, 121.0, 330.0, 188.0, 17.0, 77.0, 97.0, 233.0, 103.0, 40.0, 390.0, 55.0, 60.0, 23.0, 44.0, 33.0, 115.0, 6.0, 250.0, 193.0, 81.0, 48.0, 12.0, 8.0, 491.0, 90.0, 341.0, 245.0, 35.0, 259.0, 6.0, 3.0, 87.0, 65.0, 119.0, 230.0, 69.0, 174.0, 181.0, 29.0, 28.0, 1.0, 414.0, 50.0, 158.0, 320.0, 193.0, 396.0, 136.0, 44.0, 11.0, 63.0, 47.0, 39.0, 189.0, 383.0, 47.0, 48.0, 140.0, 42.0, 96.0, 119.0, 161.0, 87.0, 90.0, 408.0, 294.0, 92.0, 49.0, 31.0, 119.0, 96.0, 244.0, 213.0, 290.0, 102.0, 128.0, 94.0, 250.0, 73.0, 80.0, 195.0], \"type\": \"scatter\", \"uid\": \"87a8fdf8-b0c0-11e8-8f07-9801a7b5fa79\"}],\n",
       "            {\"title\": \"<b>Total content by each user</b>\", \"width\": 1200, \"xaxis\": {\"title\": \"UserId\"}, \"yaxis\": {\"title\": \"Total number of content\"}},\n",
       "            {\"showLink\": true, \"linkText\": \"Export to plot.ly\"}\n",
       "        ).then(function () {return Plotly.addFrames('a6a1090a-4533-4176-b2bb-222fda700116',{});}).then(function(){Plotly.animate('a6a1090a-4533-4176-b2bb-222fda700116');})\n",
       "        });</script>"
      ],
      "text/vnd.plotly.v1+html": [
       "<div id=\"a6a1090a-4533-4176-b2bb-222fda700116\" style=\"height: 525px; width: 1200px;\" class=\"plotly-graph-div\"></div><script type=\"text/javascript\">require([\"plotly\"], function(Plotly) { window.PLOTLYENV=window.PLOTLYENV || {};window.PLOTLYENV.BASE_URL=\"https://plot.ly\";\n",
       "        Plotly.plot(\n",
       "            'a6a1090a-4533-4176-b2bb-222fda700116',\n",
       "            [{\"mode\": \"markers\", \"x\": [\"|20|\", \"|134|\", \"|635|\", \"|950|\", \"|1034|\", \"|2052|\", \"|2434|\", \"|2442|\", \"|2474|\", \"|2487|\", \"|2495|\", \"|2499|\", \"|3063|\", \"|3195|\", \"|3532|\", \"|3723|\", \"|3734|\", \"|3924|\", \"|4062|\", \"|4249|\", \"|4309|\", \"|4324|\", \"|4377|\", \"|4527|\", \"|4609|\", \"|4711|\", \"|4809|\", \"|5307|\", \"|5639|\", \"|5651|\", \"|5792|\", \"|5833|\", \"|5956|\", \"|5986|\", \"|5999|\", \"|6051|\", \"|6064|\", \"|6072|\", \"|6235|\", \"|6380|\", \"|6524|\", \"|6542|\", \"|6583|\", \"|6639|\", \"|6797|\", \"|7202|\", \"|7212|\", \"|7215|\", \"|7381|\", \"|7392|\", \"|7473|\", \"|7752|\", \"|7838|\", \"|7887|\", \"|7993|\", \"|8055|\", \"|8153|\", \"|8293|\", \"|8537|\", \"|8539|\", \"|8551|\", \"|8587|\", \"|8588|\", \"|8962|\", \"|8969|\", \"|9174|\", \"|9464|\", \"|9484|\", \"|9499|\", \"|9553|\", \"|9562|\", \"|9676|\", \"|9707|\", \"|9770|\", \"|10163|\", \"|10319|\", \"|10400|\", \"|10484|\", \"|10527|\", \"|10530|\", \"|10590|\", \"|10605|\", \"|10687|\", \"|10701|\", \"|10710|\", \"|10729|\", \"|10793|\", \"|10878|\", \"|11020|\", \"|11033|\", \"|11048|\", \"|11060|\", \"|11125|\", \"|11210|\", \"|11267|\", \"|11271|\", \"|11272|\", \"|11314|\", \"|11320|\", \"|11377|\", \"|11380|\", \"|11510|\", \"|11578|\", \"|11599|\", \"|11741|\", \"|11767|\", \"|11831|\", \"|11875|\", \"|11954|\", \"|11986|\", \"|12116|\", \"|12128|\", \"|12189|\", \"|12213|\", \"|12232|\", \"|12439|\", \"|12595|\", \"|12603|\", \"|12665|\", \"|12817|\", \"|13274|\", \"|13516|\", \"|13519|\", \"|13759|\", \"|13817|\", \"|13864|\", \"|13989|\", \"|14040|\", \"|14199|\", \"|14246|\", \"|14285|\", \"|14371|\", \"|14536|\", \"|14664|\", \"|14715|\", \"|15177|\", \"|15249|\", \"|15368|\", \"|15394|\", \"|15430|\", \"|15446|\", \"|15816|\", \"|15838|\", \"|15955|\", \"|16083|\", \"|16217|\", \"|16243|\", \"|16286|\", \"|16532|\", \"|16673|\", \"|16793|\", \"|16812|\", \"|16976|\", \"|17402|\", \"|17433|\", \"|17594|\", \"|17616|\", \"|17694|\", \"|17701|\", \"|17756|\", \"|17800|\", \"|17861|\", \"|17877|\", \"|17978|\", \"|18635|\", \"|18983|\", \"|19020|\", \"|19098|\", \"|19243|\", \"|19261|\", \"|19392|\", \"|19473|\", \"|19924|\", \"|20522|\", \"|20667|\", \"|20693|\", \"|20926|\", \"|21120|\", \"|21184|\", \"|21315|\", \"|21398|\", \"|21545|\", \"|21583|\", \"|21637|\", \"|21770|\", \"|21976|\", \"|22125|\", \"|22212|\", \"|22374|\", \"|22414|\", \"|22488|\", \"|22744|\", \"|22912|\", \"|36430|\", \"|39764|\", \"|46919|\", \"|133792|\", \"|133825|\", \"|134526|\", \"|134610|\", \"|134674|\", \"|134718|\", \"|135593|\", \"|139679|\", \"|141555|\", \"|141557|\", \"|142112|\", \"|146460|\", \"|146533|\", \"|146717|\", \"|146768|\", \"|147078|\", \"|147253|\", \"|147277|\", \"|147326|\", \"|147434|\", \"|147597|\", \"|148099|\", \"|148355|\", \"|148421|\", \"|148456|\", \"|148550|\", \"|148564|\", \"|148830|\", \"|152457|\", \"|152475|\", \"|152505|\", \"|152515|\", \"|154372|\", \"|154379|\", \"|165262|\", \"|167651|\", \"|168874|\", \"|188773|\", \"|189813|\", \"|190103|\", \"|190423|\", \"|190993|\", \"|191609|\", \"|193221|\", \"|194611|\", \"|210992|\", \"|211062|\", \"|211124|\", \"|211224|\", \"|211312|\", \"|211350|\", \"|211387|\", \"|211558|\", \"|211605|\", \"|211659|\", \"|211735|\", \"|211744|\", \"|211797|\", \"|211809|\", \"|211828|\", \"|211942|\"], \"y\": [87.0, 94.0, 252.0, 122.0, 83.0, 640.0, 526.0, 117.0, 105.0, 223.0, 186.0, 81.0, 87.0, 211.0, 523.0, 25.0, 123.0, 686.0, 9.0, 279.0, 281.0, 15.0, 180.0, 135.0, 175.0, 214.0, 112.0, 45.0, 268.0, 71.0, 151.0, 66.0, 134.0, 140.0, 566.0, 54.0, 105.0, 76.0, 6.0, 111.0, 318.0, 106.0, 96.0, 132.0, 60.0, 150.0, 157.0, 330.0, 53.0, 160.0, 200.0, 16.0, 76.0, 352.0, 160.0, 303.0, 125.0, 92.0, 175.0, 133.0, 43.0, 67.0, 85.0, 551.0, 68.0, 165.0, 47.0, 1163.0, 396.0, 179.0, 168.0, 722.0, 24.0, 263.0, 29.0, 202.0, 32.0, 136.0, 334.0, 521.0, 145.0, 93.0, 166.0, 42.0, 43.0, 43.0, 250.0, 601.0, 144.0, 138.0, 227.0, 30.0, 143.0, 44.0, 268.0, 503.0, 282.0, 34.0, 134.0, 113.0, 202.0, 82.0, 544.0, 43.0, 7.0, 10.0, 195.0, 118.0, 405.0, 226.0, 688.0, 93.0, 49.0, 323.0, 110.0, 22.0, 120.0, 79.0, 314.0, 159.0, 56.0, 116.0, 252.0, 148.0, 8.0, 23.0, 21.0, 169.0, 37.0, 54.0, 82.0, 49.0, 78.0, 157.0, 35.0, 149.0, 42.0, 6.0, 253.0, 178.0, 61.0, 304.0, 26.0, 27.0, 30.0, 333.0, 19.0, 1.0, 32.0, 126.0, 28.0, 50.0, 87.0, 299.0, 46.0, 5.0, 526.0, 41.0, 161.0, 219.0, 173.0, 251.0, 97.0, 92.0, 14.0, 51.0, 45.0, 43.0, 32.0, 390.0, 177.0, 5.0, 140.0, 3.0, 291.0, 192.0, 121.0, 330.0, 188.0, 17.0, 77.0, 97.0, 233.0, 103.0, 40.0, 390.0, 55.0, 60.0, 23.0, 44.0, 33.0, 115.0, 6.0, 250.0, 193.0, 81.0, 48.0, 12.0, 8.0, 491.0, 90.0, 341.0, 245.0, 35.0, 259.0, 6.0, 3.0, 87.0, 65.0, 119.0, 230.0, 69.0, 174.0, 181.0, 29.0, 28.0, 1.0, 414.0, 50.0, 158.0, 320.0, 193.0, 396.0, 136.0, 44.0, 11.0, 63.0, 47.0, 39.0, 189.0, 383.0, 47.0, 48.0, 140.0, 42.0, 96.0, 119.0, 161.0, 87.0, 90.0, 408.0, 294.0, 92.0, 49.0, 31.0, 119.0, 96.0, 244.0, 213.0, 290.0, 102.0, 128.0, 94.0, 250.0, 73.0, 80.0, 195.0], \"type\": \"scatter\", \"uid\": \"87a8fdf8-b0c0-11e8-8f07-9801a7b5fa79\"}],\n",
       "            {\"title\": \"<b>Total content by each user</b>\", \"width\": 1200, \"xaxis\": {\"title\": \"UserId\"}, \"yaxis\": {\"title\": \"Total number of content\"}},\n",
       "            {\"showLink\": true, \"linkText\": \"Export to plot.ly\"}\n",
       "        ).then(function () {return Plotly.addFrames('a6a1090a-4533-4176-b2bb-222fda700116',{});}).then(function(){Plotly.animate('a6a1090a-4533-4176-b2bb-222fda700116');})\n",
       "        });</script>"
      ]
     },
     "metadata": {},
     "output_type": "display_data"
    }
   ],
   "source": [
    "# displaying total content by each user using a scatter plot\n",
    "data = [go.Scatter(x=content_by_each_user.index.map(lambda x: \"|\"+str(x)+\"|\"),\n",
    "                   y=content_by_each_user.values, mode='markers')]\n",
    "layout = go.Layout(title='<b>Total content by each user</b>', width=1200,\n",
    "                   xaxis={'title': \"UserId\"}, yaxis={'title': \"Total number of content\"})\n",
    "plot = go.Figure(data=data, layout=layout)\n",
    "plt.iplot(plot)"
   ]
  },
  {
   "cell_type": "markdown",
   "metadata": {},
   "source": [
    "<h3> <font color='crimson'>Users with total number of content pieces greater than 500</font> </h3>"
   ]
  },
  {
   "cell_type": "code",
   "execution_count": 5,
   "metadata": {},
   "outputs": [
    {
     "name": "stdout",
     "output_type": "stream",
     "text": [
      "User who have created more than 500 content pieces over the last year(2015): \n"
     ]
    },
    {
     "data": {
      "text/plain": [
       "user_id\n",
       "9484     1163\n",
       "9676      722\n",
       "12116     688\n",
       "3924      686\n",
       "2052      640\n",
       "10878     601\n",
       "5999      566\n",
       "8962      551\n",
       "11578     544\n",
       "17616     526\n",
       "2434      526\n",
       "3532      523\n",
       "10530     521\n",
       "11271     503\n",
       "Name: content_count, dtype: int64"
      ]
     },
     "execution_count": 5,
     "metadata": {},
     "output_type": "execute_result"
    }
   ],
   "source": [
    "# filter and sort the users with total content greater than 500\n",
    "content_pieces_500 = content_by_each_user[content_by_each_user > 500].sort_values(ascending=False)\n",
    "print(\"User who have created more than 500 content pieces over the last year(2015): \")\n",
    "content_pieces_500"
   ]
  },
  {
   "cell_type": "code",
   "execution_count": 6,
   "metadata": {},
   "outputs": [
    {
     "data": {
      "application/vnd.plotly.v1+json": {
       "data": [
        {
         "type": "bar",
         "uid": "87cb86f4-b0c0-11e8-b3b5-9801a7b5fa79",
         "x": [
          "|9484|",
          "|9676|",
          "|12116|",
          "|3924|",
          "|2052|",
          "|10878|",
          "|5999|",
          "|8962|",
          "|11578|",
          "|17616|",
          "|2434|",
          "|3532|",
          "|10530|",
          "|11271|"
         ],
         "y": [
          1163,
          722,
          688,
          686,
          640,
          601,
          566,
          551,
          544,
          526,
          526,
          523,
          521,
          503
         ]
        }
       ],
       "layout": {
        "title": "<b>Users with total number of content pieces > 500</b>",
        "xaxis": {
         "title": "UserId"
        },
        "yaxis": {
         "title": "Total number of content"
        }
       }
      },
      "text/html": [
       "<div id=\"0947c84f-6a55-4cd7-aad3-c77395eecb31\" style=\"height: 525px; width: 100%;\" class=\"plotly-graph-div\"></div><script type=\"text/javascript\">require([\"plotly\"], function(Plotly) { window.PLOTLYENV=window.PLOTLYENV || {};window.PLOTLYENV.BASE_URL=\"https://plot.ly\";\n",
       "        Plotly.plot(\n",
       "            '0947c84f-6a55-4cd7-aad3-c77395eecb31',\n",
       "            [{\"x\": [\"|9484|\", \"|9676|\", \"|12116|\", \"|3924|\", \"|2052|\", \"|10878|\", \"|5999|\", \"|8962|\", \"|11578|\", \"|17616|\", \"|2434|\", \"|3532|\", \"|10530|\", \"|11271|\"], \"y\": [1163.0, 722.0, 688.0, 686.0, 640.0, 601.0, 566.0, 551.0, 544.0, 526.0, 526.0, 523.0, 521.0, 503.0], \"type\": \"bar\", \"uid\": \"87cb86f4-b0c0-11e8-b3b5-9801a7b5fa79\"}],\n",
       "            {\"title\": \"<b>Users with total number of content pieces > 500</b>\", \"xaxis\": {\"title\": \"UserId\"}, \"yaxis\": {\"title\": \"Total number of content\"}},\n",
       "            {\"showLink\": true, \"linkText\": \"Export to plot.ly\"}\n",
       "        ).then(function () {return Plotly.addFrames('0947c84f-6a55-4cd7-aad3-c77395eecb31',{});}).then(function(){Plotly.animate('0947c84f-6a55-4cd7-aad3-c77395eecb31');})\n",
       "        });</script>"
      ],
      "text/vnd.plotly.v1+html": [
       "<div id=\"0947c84f-6a55-4cd7-aad3-c77395eecb31\" style=\"height: 525px; width: 100%;\" class=\"plotly-graph-div\"></div><script type=\"text/javascript\">require([\"plotly\"], function(Plotly) { window.PLOTLYENV=window.PLOTLYENV || {};window.PLOTLYENV.BASE_URL=\"https://plot.ly\";\n",
       "        Plotly.plot(\n",
       "            '0947c84f-6a55-4cd7-aad3-c77395eecb31',\n",
       "            [{\"x\": [\"|9484|\", \"|9676|\", \"|12116|\", \"|3924|\", \"|2052|\", \"|10878|\", \"|5999|\", \"|8962|\", \"|11578|\", \"|17616|\", \"|2434|\", \"|3532|\", \"|10530|\", \"|11271|\"], \"y\": [1163.0, 722.0, 688.0, 686.0, 640.0, 601.0, 566.0, 551.0, 544.0, 526.0, 526.0, 523.0, 521.0, 503.0], \"type\": \"bar\", \"uid\": \"87cb86f4-b0c0-11e8-b3b5-9801a7b5fa79\"}],\n",
       "            {\"title\": \"<b>Users with total number of content pieces > 500</b>\", \"xaxis\": {\"title\": \"UserId\"}, \"yaxis\": {\"title\": \"Total number of content\"}},\n",
       "            {\"showLink\": true, \"linkText\": \"Export to plot.ly\"}\n",
       "        ).then(function () {return Plotly.addFrames('0947c84f-6a55-4cd7-aad3-c77395eecb31',{});}).then(function(){Plotly.animate('0947c84f-6a55-4cd7-aad3-c77395eecb31');})\n",
       "        });</script>"
      ]
     },
     "metadata": {},
     "output_type": "display_data"
    }
   ],
   "source": [
    "# displaying users with total content greater than 500 using a bar chart\n",
    "data = [go.Bar(x=content_pieces_500.index.map(lambda x: \"|\"+str(x)+\"|\"),\n",
    "               y=content_pieces_500.values)]\n",
    "layout = go.Layout(title='<b>Users with total number of content pieces > 500</b>',\n",
    "                   xaxis={'title': \"UserId\"}, yaxis={'title': \"Total number of content\"})\n",
    "plot = go.Figure(data=data, layout=layout)\n",
    "plt.iplot(plot)"
   ]
  },
  {
   "cell_type": "markdown",
   "metadata": {
    "collapsed": true
   },
   "source": [
    "### <font color='crimson'>2. Define a metric and a corresponding function that determines which are the fastest growing users in terms of positive customer engagement over the last year. Report the top 10 users based on the metric that defines “fastest growing user”.</font>"
   ]
  },
  {
   "cell_type": "markdown",
   "metadata": {},
   "source": [
    "<h3> <font color='crimson'>Average Log Growth Rate (ALGR)</font> </h3>\n",
    "<p> We define \"Average Log Growth Rate\" as a metric to determine the fastest growing users in terms of positive customer engagement. If a user creates x<sub>i</sub>, x<sub>j</sub> pieces of content chronologically, his growth rate(r<sub>i</sub>). Suppose a user created x<sub>1</sub>, x<sub>2</sub>, x<sub>3</sub>, ... x<sub>n</sub> content pieces on n different days in a year chronologically, his growth rates would be r<sub>1</sub>, r<sub>2</sub>, r<sub>3</sub>, ... r<sub>n-1</sub>. The average log growth rate is calculated using the following formula: </p>\n",
    "<p><font color='crimson'>\n",
    "\\begin{equation*}\n",
    "ALGR = \\frac{1}{n-1}*\\sum_{i=1}^{n-1} log(1 + r_{i}),\n",
    "\\end{equation*}\n",
    "</font></p>"
   ]
  },
  {
   "cell_type": "markdown",
   "metadata": {},
   "source": [
    "<h3><font color='crimson'>Reasoning</font></h3>\n",
    "<p> We don't want to our metric to reward equally for positive growth rate and negative growth rate which is possible through log. We are adding 1 to the rate to make sure that 1+rate is always positive. For example, if positive customer engagement double from 8 to 16 ALGR would be log(1+1) = 0.3, however if it reduces to half from 16 to 8 ALGR would be log(1-0.5)=-0.7. Since we are trying to find the growing users, we are penalizing more when compared rewarding using this technique. \n",
    "</p> "
   ]
  },
  {
   "cell_type": "markdown",
   "metadata": {},
   "source": [
    "<h3><font color='crimson'>Assumptions</font></h3>\n",
    "<p> We are considering positive customer engagement data by a user only on the days he created some content so that his growth isn't judged/measured during the days he isn't creating any content.\n",
    "</p>"
   ]
  },
  {
   "cell_type": "code",
   "execution_count": 7,
   "metadata": {},
   "outputs": [
    {
     "data": {
      "text/plain": [
       "user_id  content_created_date\n",
       "20       2015-01-01               52\n",
       "         2015-01-02               72\n",
       "         2015-01-10               83\n",
       "         2015-01-12               45\n",
       "         2015-01-16              102\n",
       "Name: total_engagement, dtype: int64"
      ]
     },
     "execution_count": 7,
     "metadata": {},
     "output_type": "execute_result"
    }
   ],
   "source": [
    "# creating a multilevel index to access positive customer engagement using user_id and content_created_date\n",
    "pce_by_each_user = user_message_df.set_index(['user_id', 'content_created_date'])['total_engagement']\n",
    "pce_by_each_user.head()"
   ]
  },
  {
   "cell_type": "code",
   "execution_count": 8,
   "metadata": {
    "collapsed": true
   },
   "outputs": [],
   "source": [
    "# loading each user_id and his corresponding \"metric\" into a series\n",
    "growing_users = pd.Series()\n",
    "\n",
    "# iterate over each user and his corresponding work\n",
    "for user_id, udf in pce_by_each_user.groupby(level=0):\n",
    "    \n",
    "    # metric is set to be zero if user created content only once in the entire year\n",
    "    if len(udf) == 1:\n",
    "        growing_users.loc[user_id] = 0\n",
    "        continue\n",
    "    \n",
    "    # replacing all the 0's with 1's to make sure log(rate) is always defined\n",
    "    udf.replace({0: 1}, inplace=True)\n",
    "    \n",
    "    # calculating rate by doing (final-initial)/initial\n",
    "    rate_df = (udf - udf.shift(1)) / udf.shift(1)\n",
    "    rate_df = rate_df.apply(lambda rate: math.log10(rate + 1))\n",
    "    \n",
    "    # loading user_id as index and his corresponding \"metric\" into the series\n",
    "    growing_users.loc[user_id] = rate_df.sum()/(len(udf)-1)"
   ]
  },
  {
   "cell_type": "markdown",
   "metadata": {},
   "source": [
    "<h3> <font color='crimson'>Top 10 fast growing users</font> </h3>"
   ]
  },
  {
   "cell_type": "code",
   "execution_count": 9,
   "metadata": {},
   "outputs": [
    {
     "name": "stdout",
     "output_type": "stream",
     "text": [
      "Top 10 fast growing users and their corresponding metric(ALGR) are: \n"
     ]
    },
    {
     "data": {
      "text/plain": [
       "15368     0.528274\n",
       "152475    0.093704\n",
       "13817     0.087146\n",
       "11767     0.077894\n",
       "17594     0.075257\n",
       "7752      0.039760\n",
       "11741     0.036975\n",
       "15249     0.030348\n",
       "10701     0.029447\n",
       "168874    0.021116\n",
       "dtype: float64"
      ]
     },
     "execution_count": 9,
     "metadata": {},
     "output_type": "execute_result"
    }
   ],
   "source": [
    "# sort the series by metric(ALGR) in descending order\n",
    "growing_users.sort_values(ascending=False, inplace=True)\n",
    "print(\"Top 10 fast growing users and their corresponding metric(ALGR) are: \")\n",
    "growing_users.iloc[:10]"
   ]
  },
  {
   "cell_type": "code",
   "execution_count": 10,
   "metadata": {},
   "outputs": [
    {
     "data": {
      "application/vnd.plotly.v1+json": {
       "data": [
        {
         "type": "bar",
         "uid": "88403ab0-b0c0-11e8-9c2b-9801a7b5fa79",
         "x": [
          "|15368|",
          "|152475|",
          "|13817|",
          "|11767|",
          "|17594|",
          "|7752|",
          "|11741|",
          "|15249|",
          "|10701|",
          "|168874|"
         ],
         "y": [
          0.5282737771670437,
          0.093704216591549,
          0.08714645754672294,
          0.07789356957175103,
          0.0752574989159953,
          0.03976010455997186,
          0.03697479160272606,
          0.030348366291135333,
          0.02944719709230504,
          0.02111561518598621
         ]
        }
       ],
       "layout": {
        "title": "<b>Top 10 fast growing users</b>",
        "xaxis": {
         "title": "UserId"
        },
        "yaxis": {
         "title": "Metric (ALGR)"
        }
       }
      },
      "text/html": [
       "<div id=\"e59d8d66-8283-48b0-aec5-cd707e8359a9\" style=\"height: 525px; width: 100%;\" class=\"plotly-graph-div\"></div><script type=\"text/javascript\">require([\"plotly\"], function(Plotly) { window.PLOTLYENV=window.PLOTLYENV || {};window.PLOTLYENV.BASE_URL=\"https://plot.ly\";\n",
       "        Plotly.plot(\n",
       "            'e59d8d66-8283-48b0-aec5-cd707e8359a9',\n",
       "            [{\"x\": [\"|15368|\", \"|152475|\", \"|13817|\", \"|11767|\", \"|17594|\", \"|7752|\", \"|11741|\", \"|15249|\", \"|10701|\", \"|168874|\"], \"y\": [0.5282737771670437, 0.093704216591549, 0.08714645754672294, 0.07789356957175103, 0.0752574989159953, 0.03976010455997186, 0.03697479160272606, 0.030348366291135333, 0.02944719709230504, 0.02111561518598621], \"type\": \"bar\", \"uid\": \"88403ab0-b0c0-11e8-9c2b-9801a7b5fa79\"}],\n",
       "            {\"title\": \"<b>Top 10 fast growing users</b>\", \"xaxis\": {\"title\": \"UserId\"}, \"yaxis\": {\"title\": \"Metric (ALGR)\"}},\n",
       "            {\"showLink\": true, \"linkText\": \"Export to plot.ly\"}\n",
       "        ).then(function () {return Plotly.addFrames('e59d8d66-8283-48b0-aec5-cd707e8359a9',{});}).then(function(){Plotly.animate('e59d8d66-8283-48b0-aec5-cd707e8359a9');})\n",
       "        });</script>"
      ],
      "text/vnd.plotly.v1+html": [
       "<div id=\"e59d8d66-8283-48b0-aec5-cd707e8359a9\" style=\"height: 525px; width: 100%;\" class=\"plotly-graph-div\"></div><script type=\"text/javascript\">require([\"plotly\"], function(Plotly) { window.PLOTLYENV=window.PLOTLYENV || {};window.PLOTLYENV.BASE_URL=\"https://plot.ly\";\n",
       "        Plotly.plot(\n",
       "            'e59d8d66-8283-48b0-aec5-cd707e8359a9',\n",
       "            [{\"x\": [\"|15368|\", \"|152475|\", \"|13817|\", \"|11767|\", \"|17594|\", \"|7752|\", \"|11741|\", \"|15249|\", \"|10701|\", \"|168874|\"], \"y\": [0.5282737771670437, 0.093704216591549, 0.08714645754672294, 0.07789356957175103, 0.0752574989159953, 0.03976010455997186, 0.03697479160272606, 0.030348366291135333, 0.02944719709230504, 0.02111561518598621], \"type\": \"bar\", \"uid\": \"88403ab0-b0c0-11e8-9c2b-9801a7b5fa79\"}],\n",
       "            {\"title\": \"<b>Top 10 fast growing users</b>\", \"xaxis\": {\"title\": \"UserId\"}, \"yaxis\": {\"title\": \"Metric (ALGR)\"}},\n",
       "            {\"showLink\": true, \"linkText\": \"Export to plot.ly\"}\n",
       "        ).then(function () {return Plotly.addFrames('e59d8d66-8283-48b0-aec5-cd707e8359a9',{});}).then(function(){Plotly.animate('e59d8d66-8283-48b0-aec5-cd707e8359a9');})\n",
       "        });</script>"
      ]
     },
     "metadata": {},
     "output_type": "display_data"
    }
   ],
   "source": [
    "# displaying top 10 fast growing users with positive customer engagement and their respective ALGR\n",
    "data = [go.Bar(x=growing_users.iloc[:10].index.map(lambda x: \"|\"+str(x)+\"|\"),\n",
    "               y=growing_users.iloc[:10].values)]\n",
    "layout = go.Layout(title='<b>Top 10 fast growing users</b>',\n",
    "                   xaxis={'title': \"UserId\"}, yaxis={'title': \"Metric (ALGR)\"})\n",
    "plot = go.Figure(data=data, layout=layout)\n",
    "plt.iplot(plot)"
   ]
  }
 ],
 "metadata": {
  "kernelspec": {
   "display_name": "Python 3",
   "language": "python",
   "name": "python3"
  },
  "language_info": {
   "codemirror_mode": {
    "name": "ipython",
    "version": 3
   },
   "file_extension": ".py",
   "mimetype": "text/x-python",
   "name": "python",
   "nbconvert_exporter": "python",
   "pygments_lexer": "ipython3",
   "version": "3.6.1"
  }
 },
 "nbformat": 4,
 "nbformat_minor": 1
}
