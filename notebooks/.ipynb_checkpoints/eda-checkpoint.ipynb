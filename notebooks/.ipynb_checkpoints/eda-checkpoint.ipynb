{
 "cells": [
  {
   "cell_type": "code",
   "execution_count": 1,
   "metadata": {
    "collapsed": true
   },
   "outputs": [],
   "source": [
    "import numpy as np\n",
    "import pandas as pd"
   ]
  },
  {
   "cell_type": "code",
   "execution_count": 2,
   "metadata": {
    "collapsed": true
   },
   "outputs": [],
   "source": [
    "excel_file = \"../spreadsheets/Data science take home Datasets.xlsx\"\n",
    "user_message_df = pd.read_excel(excel_file, \"user_message\")\n",
    "user_df = pd.read_excel(excel_file, \"user\")\n",
    "user_features_df = pd.read_excel(excel_file, \"user_features\")\n",
    "model_test_file_df = pd.read_excel(excel_file, \"model_test_file\")"
   ]
  },
  {
   "cell_type": "code",
   "execution_count": 3,
   "metadata": {},
   "outputs": [
    {
     "data": {
      "text/plain": [
       "user_id\n",
       "20         87\n",
       "134        94\n",
       "635       252\n",
       "950       122\n",
       "1034       83\n",
       "2052      640\n",
       "2434      526\n",
       "2442      117\n",
       "2474      105\n",
       "2487      223\n",
       "2495      186\n",
       "2499       81\n",
       "3063       87\n",
       "3195      211\n",
       "3532      523\n",
       "3723       25\n",
       "3734      123\n",
       "3924      686\n",
       "4062        9\n",
       "4249      279\n",
       "4309      281\n",
       "4324       15\n",
       "4377      180\n",
       "4527      135\n",
       "4609      175\n",
       "4711      214\n",
       "4809      112\n",
       "5307       45\n",
       "5639      268\n",
       "5651       71\n",
       "         ... \n",
       "152515     47\n",
       "154372     39\n",
       "154379    189\n",
       "165262    383\n",
       "167651     47\n",
       "168874     48\n",
       "188773    140\n",
       "189813     42\n",
       "190103     96\n",
       "190423    119\n",
       "190993    161\n",
       "191609     87\n",
       "193221     90\n",
       "194611    408\n",
       "210992    294\n",
       "211062     92\n",
       "211124     49\n",
       "211224     31\n",
       "211312    119\n",
       "211350     96\n",
       "211387    244\n",
       "211558    213\n",
       "211605    290\n",
       "211659    102\n",
       "211735    128\n",
       "211744     94\n",
       "211797    250\n",
       "211809     73\n",
       "211828     80\n",
       "211942    195\n",
       "Name: content_count, Length: 257, dtype: int64"
      ]
     },
     "execution_count": 3,
     "metadata": {},
     "output_type": "execute_result"
    }
   ],
   "source": [
    "content_by_each_user = user_message_df.groupby(['user_id'])['content_count'].sum()\n",
    "content_by_each_user"
   ]
  },
  {
   "cell_type": "code",
   "execution_count": 4,
   "metadata": {},
   "outputs": [
    {
     "data": {
      "text/plain": [
       "user_id\n",
       "9484     1163\n",
       "9676      722\n",
       "12116     688\n",
       "3924      686\n",
       "2052      640\n",
       "10878     601\n",
       "5999      566\n",
       "8962      551\n",
       "11578     544\n",
       "17616     526\n",
       "2434      526\n",
       "3532      523\n",
       "10530     521\n",
       "11271     503\n",
       "Name: content_count, dtype: int64"
      ]
     },
     "execution_count": 4,
     "metadata": {},
     "output_type": "execute_result"
    }
   ],
   "source": [
    "content_pieces_500 = content_by_each_user[content_by_each_user > 500].sort_values(ascending=False)"
   ]
  },
  {
   "cell_type": "code",
   "execution_count": null,
   "metadata": {
    "collapsed": true
   },
   "outputs": [],
   "source": []
  }
 ],
 "metadata": {
  "kernelspec": {
   "display_name": "Python 3",
   "language": "python",
   "name": "python3"
  },
  "language_info": {
   "codemirror_mode": {
    "name": "ipython",
    "version": 3
   },
   "file_extension": ".py",
   "mimetype": "text/x-python",
   "name": "python",
   "nbconvert_exporter": "python",
   "pygments_lexer": "ipython3",
   "version": "3.6.1"
  }
 },
 "nbformat": 4,
 "nbformat_minor": 1
}
